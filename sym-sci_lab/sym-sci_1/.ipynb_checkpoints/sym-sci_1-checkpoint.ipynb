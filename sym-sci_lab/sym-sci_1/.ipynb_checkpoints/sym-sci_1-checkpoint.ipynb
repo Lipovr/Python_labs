{
 "cells": [
  {
   "cell_type": "code",
   "execution_count": 1,
   "metadata": {},
   "outputs": [],
   "source": [
    "from sympy import *"
   ]
  },
  {
   "cell_type": "code",
   "execution_count": 2,
   "metadata": {},
   "outputs": [],
   "source": [
    "l, m, r = symbols('lambda mu rho')"
   ]
  },
  {
   "cell_type": "code",
   "execution_count": 3,
   "metadata": {},
   "outputs": [
    {
     "data": {
      "text/latex": [
       "$\\displaystyle \\left[\\begin{matrix}0 & 0 & 0 & - \\frac{1}{\\rho} & 0 & 0 & 0 & 0 & 0\\\\0 & 0 & 0 & 0 & - \\frac{1}{\\rho} & 0 & 0 & 0 & 0\\\\0 & 0 & 0 & 0 & 0 & - \\frac{1}{\\rho} & 0 & 0 & 0\\\\- \\lambda - 2 \\mu & 0 & 0 & 0 & 0 & 0 & 0 & 0 & 0\\\\0 & - \\mu & 0 & 0 & 0 & 0 & 0 & 0 & 0\\\\0 & 0 & - \\mu & 0 & 0 & 0 & 0 & 0 & 0\\\\- \\lambda & 0 & 0 & 0 & 0 & 0 & 0 & 0 & 0\\\\0 & 0 & 0 & 0 & 0 & 0 & 0 & 0 & 0\\\\- \\lambda & 0 & 0 & 0 & 0 & 0 & 0 & 0 & 0\\end{matrix}\\right]$"
      ],
      "text/plain": [
       "Matrix([\n",
       "[             0,   0,   0, -1/rho,      0,      0, 0, 0, 0],\n",
       "[             0,   0,   0,      0, -1/rho,      0, 0, 0, 0],\n",
       "[             0,   0,   0,      0,      0, -1/rho, 0, 0, 0],\n",
       "[-lambda - 2*mu,   0,   0,      0,      0,      0, 0, 0, 0],\n",
       "[             0, -mu,   0,      0,      0,      0, 0, 0, 0],\n",
       "[             0,   0, -mu,      0,      0,      0, 0, 0, 0],\n",
       "[       -lambda,   0,   0,      0,      0,      0, 0, 0, 0],\n",
       "[             0,   0,   0,      0,      0,      0, 0, 0, 0],\n",
       "[       -lambda,   0,   0,      0,      0,      0, 0, 0, 0]])"
      ]
     },
     "execution_count": 3,
     "metadata": {},
     "output_type": "execute_result"
    }
   ],
   "source": [
    "M = Matrix([[zeros(3,3), diag(*([-1/r]*3)), zeros(3,3)], [diag(-(l+2*m), *([-m]*2)), zeros(3,6)], [Matrix([-l, 0, -l]), zeros(3,8)]])\n",
    "M"
   ]
  },
  {
   "cell_type": "code",
   "execution_count": 4,
   "metadata": {},
   "outputs": [],
   "source": [
    "eig = M.eigenvals()"
   ]
  },
  {
   "cell_type": "code",
   "execution_count": 5,
   "metadata": {},
   "outputs": [
    {
     "data": {
      "text/plain": [
       "<zip at 0x29cdfd9aec0>"
      ]
     },
     "execution_count": 5,
     "metadata": {},
     "output_type": "execute_result"
    }
   ],
   "source": [
    "zip(eig.values(), eig.keys())"
   ]
  },
  {
   "cell_type": "code",
   "execution_count": 6,
   "metadata": {},
   "outputs": [
    {
     "ename": "ModuleNotFoundError",
     "evalue": "No module named 'Ipython'",
     "output_type": "error",
     "traceback": [
      "\u001b[1;31m---------------------------------------------------------------------------\u001b[0m",
      "\u001b[1;31mModuleNotFoundError\u001b[0m                       Traceback (most recent call last)",
      "\u001b[1;32m<ipython-input-6-e14b002c247c>\u001b[0m in \u001b[0;36m<module>\u001b[1;34m\u001b[0m\n\u001b[1;32m----> 1\u001b[1;33m \u001b[1;32mimport\u001b[0m \u001b[0mIpython\u001b[0m\u001b[1;33m.\u001b[0m\u001b[0mdisplay\u001b[0m\u001b[1;33m.\u001b[0m\u001b[0mMath\u001b[0m \u001b[1;32mas\u001b[0m \u001b[0mdispmath\u001b[0m\u001b[1;33m\u001b[0m\u001b[1;33m\u001b[0m\u001b[0m\n\u001b[0m\u001b[0;32m      2\u001b[0m \u001b[0mdispmath\u001b[0m\u001b[1;33m(\u001b[0m\u001b[1;34mrf'\\int_{{t=0}}^1 \\frac{{1}}{{1+t^2}}\\,\\text{{d}}t = {sympy.latex(I)}'\u001b[0m\u001b[1;33m)\u001b[0m\u001b[1;33m\u001b[0m\u001b[1;33m\u001b[0m\u001b[0m\n",
      "\u001b[1;31mModuleNotFoundError\u001b[0m: No module named 'Ipython'"
     ]
    }
   ],
   "source": [
    "import Ipython.display.Math as dispmath\n",
    "dispmath(rf'\\int_{{t=0}}^1 \\frac{{1}}{{1+t^2}}\\,\\text{{d}}t = {sympy.latex(I)}')"
   ]
  },
  {
   "cell_type": "code",
   "execution_count": null,
   "metadata": {},
   "outputs": [],
   "source": [
    "(latex(l))"
   ]
  },
  {
   "cell_type": "code",
   "execution_count": null,
   "metadata": {},
   "outputs": [],
   "source": [
    "\n",
    "for mul, val in zip(eig.values(), eig.keys()):\n",
    "    display(val, 'Кратности %d' %(mul))"
   ]
  },
  {
   "cell_type": "code",
   "execution_count": null,
   "metadata": {},
   "outputs": [],
   "source": []
  }
 ],
 "metadata": {
  "kernelspec": {
   "display_name": "Python 3",
   "language": "python",
   "name": "python3"
  },
  "language_info": {
   "codemirror_mode": {
    "name": "ipython",
    "version": 3
   },
   "file_extension": ".py",
   "mimetype": "text/x-python",
   "name": "python",
   "nbconvert_exporter": "python",
   "pygments_lexer": "ipython3",
   "version": "3.8.3"
  }
 },
 "nbformat": 4,
 "nbformat_minor": 4
}
